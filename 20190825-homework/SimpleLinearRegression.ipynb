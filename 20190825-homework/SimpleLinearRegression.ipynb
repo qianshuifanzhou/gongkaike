{
 "cells": [
  {
   "cell_type": "code",
   "execution_count": 443,
   "metadata": {},
   "outputs": [],
   "source": [
    "import numpy as np \n",
    "import pandas as pd\n",
    "from sklearn import linear_model\n",
    "import sys\n",
    "import warnings"
   ]
  },
  {
   "cell_type": "code",
   "execution_count": 450,
   "metadata": {},
   "outputs": [],
   "source": [
    "data=pd.read_csv('D:\\data\\creditcard.csv')"
   ]
  },
  {
   "cell_type": "code",
   "execution_count": 465,
   "metadata": {},
   "outputs": [],
   "source": [
    "#增加冲量参数momentum优化学习率\n",
    "#增加decay优化学习率 1.0/(1.0+self.decay*i)\n",
    "#增加循环终止条件\n",
    "#可以类似LinearRegression那样的预测方法等等\n",
    "class SimpleLinearRegression():\n",
    "    coef=0\n",
    "    def __init__(self,n_rounds,momentum,alpha,decay):\n",
    "        self.n_rounds=n_rounds\n",
    "        self.momentum=momentum\n",
    "        self.alpha=alpha\n",
    "        self.decay=decay\n",
    "    def fit(self,X,y):\n",
    "        n_feature=X.shape[1]\n",
    "        n_sample=X.shape[0]\n",
    "        y=np.array(y).reshape((n_sample,1))\n",
    "        X=np.array(X)\n",
    "        X_T=X.T\n",
    "        beta=np.zeros(n_feature).reshape((n_feature,1))\n",
    "        beta_v0=np.zeros(n_feature).reshape((n_feature,1))\n",
    "        y_v0=sys.maxsize\n",
    "        err=sys.maxsize\n",
    "        i=0\n",
    "        while i<self.n_rounds and np.abs(err)>1e-16:\n",
    "            g=2*(X_T @(X @ beta-y))/n_sample\n",
    "            beta_v1=-self.alpha*1.0/(1.0+self.decay*i)*g\n",
    "            beta=beta+beta_v1+self.momentum*beta_v0\n",
    "            beta_v0=beta_v1\n",
    "            y_v1=np.sum((y-X @ beta)**2)\n",
    "            err=y_v1-y_v0\n",
    "            y_v0=y_v1\n",
    "            i+=1\n",
    "        if  np.abs(err)>1e-16:\n",
    "            warnings.warn(\"迭代次数不够,未达到1e-16精度，请增加迭代次数\")\n",
    "        self.coef=beta\n",
    "        return self"
   ]
  },
  {
   "cell_type": "code",
   "execution_count": 468,
   "metadata": {},
   "outputs": [
    {
     "data": {
      "text/plain": [
       "array([[-29.0777736 ],\n",
       "       [-80.49135302],\n",
       "       [-34.78665877]])"
      ]
     },
     "execution_count": 468,
     "metadata": {},
     "output_type": "execute_result"
    }
   ],
   "source": [
    "#检验\n",
    "X=data[['V1','V2','V3']]\n",
    "y=data['Amount']\n",
    "model=SimpleLinearRegression(120,0.1,0.03,0)\n",
    "model.fit(X,y).coef"
   ]
  },
  {
   "cell_type": "code",
   "execution_count": 469,
   "metadata": {},
   "outputs": [
    {
     "data": {
      "text/plain": [
       "array([-29.0777736 , -80.4913531 , -34.78666012])"
      ]
     },
     "execution_count": 469,
     "metadata": {},
     "output_type": "execute_result"
    }
   ],
   "source": [
    "#使用LinearRegression作对比\n",
    "reg = linear_model.LinearRegression(fit_intercept=False,normalize=False)\n",
    "reg.fit(X, y)\n",
    "reg.coef_"
   ]
  },
  {
   "cell_type": "code",
   "execution_count": 470,
   "metadata": {},
   "outputs": [],
   "source": [
    "#存在的问题:运行时间要比LinearRegression稍长,待改进"
   ]
  },
  {
   "cell_type": "code",
   "execution_count": null,
   "metadata": {},
   "outputs": [],
   "source": []
  }
 ],
 "metadata": {
  "kernelspec": {
   "display_name": "Python 3",
   "language": "python",
   "name": "python3"
  },
  "language_info": {
   "codemirror_mode": {
    "name": "ipython",
    "version": 3
   },
   "file_extension": ".py",
   "mimetype": "text/x-python",
   "name": "python",
   "nbconvert_exporter": "python",
   "pygments_lexer": "ipython3",
   "version": "3.7.4"
  }
 },
 "nbformat": 4,
 "nbformat_minor": 2
}
