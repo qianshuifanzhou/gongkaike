{
 "cells": [
  {
   "cell_type": "code",
   "execution_count": 1,
   "metadata": {},
   "outputs": [],
   "source": [
    "import pandas as pd\n",
    "from sklearn.metrics import confusion_matrix\n",
    "from sklearn.metrics import f1_score\n",
    "from sklearn.metrics import accuracy_score\n",
    "from sklearn.metrics import recall_score\n",
    "from sklearn.metrics import precision_score"
   ]
  },
  {
   "cell_type": "code",
   "execution_count": 2,
   "metadata": {},
   "outputs": [],
   "source": [
    "def  find_TP(y_true,y_pred):\n",
    "   return sum((y_pred==1) & (y_true==1))"
   ]
  },
  {
   "cell_type": "code",
   "execution_count": 3,
   "metadata": {},
   "outputs": [],
   "source": [
    "def find_FP(y_true,y_pred):\n",
    "    return sum((y_pred==1) & (y_true==0))"
   ]
  },
  {
   "cell_type": "code",
   "execution_count": 4,
   "metadata": {},
   "outputs": [],
   "source": [
    "def find_TN(y_true,y_pred):\n",
    "    return sum((y_pred==0) & (y_true==0))"
   ]
  },
  {
   "cell_type": "code",
   "execution_count": 5,
   "metadata": {},
   "outputs": [],
   "source": [
    "def find_FN(y_true,y_pred):\n",
    "    return sum((y_pred==0) & (y_true==1))"
   ]
  },
  {
   "cell_type": "code",
   "execution_count": 6,
   "metadata": {},
   "outputs": [],
   "source": [
    "def my_accuracy_score(y_true,y_pred):\n",
    "    TP,TN,FP,FN=find_conf_matrix_values(y_true,y_pred)\n",
    "    return (TP+TN)/(TP+TN+FP+FN)"
   ]
  },
  {
   "cell_type": "code",
   "execution_count": 7,
   "metadata": {},
   "outputs": [],
   "source": [
    "def my_precision_score(y_true,y_pred):\n",
    "    TP, TN, FP, FN = find_conf_matrix_values(y_true, y_pred)\n",
    "    return TP/(TP+FP)"
   ]
  },
  {
   "cell_type": "code",
   "execution_count": 8,
   "metadata": {},
   "outputs": [],
   "source": [
    "def my_recall_score(y_true,y_pred):\n",
    "    TP, TN, FP, FN = find_conf_matrix_values(y_true, y_pred)\n",
    "    return TP/(TP+FN)"
   ]
  },
  {
   "cell_type": "code",
   "execution_count": 9,
   "metadata": {},
   "outputs": [],
   "source": [
    "def my_f1_score(y_true,y_pred):\n",
    "   return 2*1/(1/my_precision_score(y_true,y_pred)+1/my_recall_score(y_true,y_pred))"
   ]
  },
  {
   "cell_type": "code",
   "execution_count": 10,
   "metadata": {},
   "outputs": [],
   "source": [
    "def find_conf_matrix_values(y_true,y_pred):\n",
    "    TP=find_TP(y_true,y_pred)\n",
    "    FP=find_FP(y_true,y_pred)\n",
    "    TN=find_TN(y_true,y_pred)\n",
    "    FN=find_FN(y_true,y_pred)\n",
    "    return TP,TN,FP,FN"
   ]
  },
  {
   "cell_type": "code",
   "execution_count": 12,
   "metadata": {},
   "outputs": [],
   "source": [
    "    y_true=pd.Series([1,0,0,1,0])\n",
    "    y_pred=pd.Series([1,0,1,1,0])"
   ]
  },
  {
   "cell_type": "code",
   "execution_count": 13,
   "metadata": {},
   "outputs": [
    {
     "name": "stdout",
     "output_type": "stream",
     "text": [
      "accuracy_score(my):\n",
      "0.8\n"
     ]
    }
   ],
   "source": [
    "print(\"accuracy_score(my):\")\n",
    "print(my_accuracy_score(y_true,y_pred))"
   ]
  },
  {
   "cell_type": "code",
   "execution_count": 14,
   "metadata": {},
   "outputs": [
    {
     "name": "stdout",
     "output_type": "stream",
     "text": [
      "accuracy_score(sklearn):\n",
      "0.8\n"
     ]
    }
   ],
   "source": [
    "print(\"accuracy_score(sklearn):\")\n",
    "print(accuracy_score(y_true,y_pred))"
   ]
  },
  {
   "cell_type": "code",
   "execution_count": 16,
   "metadata": {},
   "outputs": [
    {
     "name": "stdout",
     "output_type": "stream",
     "text": [
      "precision_score(my):\n",
      "0.6666666666666666\n"
     ]
    }
   ],
   "source": [
    "print(\"precision_score(my):\")\n",
    "print(my_precision_score(y_true,y_pred))"
   ]
  },
  {
   "cell_type": "code",
   "execution_count": 17,
   "metadata": {},
   "outputs": [
    {
     "name": "stdout",
     "output_type": "stream",
     "text": [
      "precision_score(sklearn):\n",
      "0.6666666666666666\n"
     ]
    }
   ],
   "source": [
    "print(\"precision_score(sklearn):\")\n",
    "print(precision_score(y_true,y_pred))"
   ]
  },
  {
   "cell_type": "code",
   "execution_count": 18,
   "metadata": {},
   "outputs": [
    {
     "name": "stdout",
     "output_type": "stream",
     "text": [
      "recall_score(my):\n",
      "1.0\n"
     ]
    }
   ],
   "source": [
    "print(\"recall_score(my):\")\n",
    "print(my_recall_score(y_true,y_pred))"
   ]
  },
  {
   "cell_type": "code",
   "execution_count": 19,
   "metadata": {},
   "outputs": [
    {
     "name": "stdout",
     "output_type": "stream",
     "text": [
      "recall_score(sklearn):\n",
      "1.0\n"
     ]
    }
   ],
   "source": [
    "print(\"recall_score(sklearn):\")\n",
    "print(recall_score(y_true,y_pred))"
   ]
  },
  {
   "cell_type": "code",
   "execution_count": 20,
   "metadata": {},
   "outputs": [
    {
     "name": "stdout",
     "output_type": "stream",
     "text": [
      "f1_score(my):\n",
      "0.8\n"
     ]
    }
   ],
   "source": [
    "print(\"f1_score(my):\")\n",
    "print(my_f1_score(y_true,y_pred))"
   ]
  },
  {
   "cell_type": "code",
   "execution_count": 21,
   "metadata": {},
   "outputs": [
    {
     "name": "stdout",
     "output_type": "stream",
     "text": [
      "f1_score(sklearn):\n",
      "0.8\n"
     ]
    }
   ],
   "source": [
    "print(\"f1_score(sklearn):\")\n",
    "print(f1_score(y_true,y_pred))"
   ]
  },
  {
   "cell_type": "code",
   "execution_count": null,
   "metadata": {},
   "outputs": [],
   "source": []
  }
 ],
 "metadata": {
  "kernelspec": {
   "display_name": "Python 3",
   "language": "python",
   "name": "python3"
  },
  "language_info": {
   "codemirror_mode": {
    "name": "ipython",
    "version": 3
   },
   "file_extension": ".py",
   "mimetype": "text/x-python",
   "name": "python",
   "nbconvert_exporter": "python",
   "pygments_lexer": "ipython3",
   "version": "3.7.4"
  }
 },
 "nbformat": 4,
 "nbformat_minor": 2
}
